{
  "nbformat": 4,
  "nbformat_minor": 0,
  "metadata": {
    "colab": {
      "provenance": [],
      "authorship_tag": "ABX9TyO12zvRiD4BWfOKwABhqrzP",
      "include_colab_link": true
    },
    "kernelspec": {
      "name": "python3",
      "display_name": "Python 3"
    },
    "language_info": {
      "name": "python"
    }
  },
  "cells": [
    {
      "cell_type": "markdown",
      "metadata": {
        "id": "view-in-github",
        "colab_type": "text"
      },
      "source": [
        "<a href=\"https://colab.research.google.com/github/christadel27/belajar_github_wave9/blob/main/Numpy.ipynb\" target=\"_parent\"><img src=\"https://colab.research.google.com/assets/colab-badge.svg\" alt=\"Open In Colab\"/></a>"
      ]
    },
    {
      "cell_type": "code",
      "execution_count": 2,
      "metadata": {
        "id": "WiVAT7uP8kn3"
      },
      "outputs": [],
      "source": [
        "import numpy as np\n",
        "import pandas as pd"
      ]
    },
    {
      "cell_type": "code",
      "source": [
        "# Create and populate a 5x2 NumPy array.\n",
        "my_data = np.array([[0, 3], [10, 7], [20, 9], [30, 14], [40, 15]])\n",
        "\n",
        "# Create a Python list that holds the names of the two columns.\n",
        "my_column_names = ['temperature', 'activity']\n",
        "\n",
        "# Create a DataFrame.\n",
        "my_dataframe = pd.DataFrame(data=my_data, columns=my_column_names)\n",
        "\n",
        "# Print the entire DataFrame\n",
        "print(my_dataframe)"
      ],
      "metadata": {
        "colab": {
          "base_uri": "https://localhost:8080/",
          "height": 0
        },
        "id": "zBtdWgxB8pd7",
        "outputId": "86a5d316-2a3d-4161-b971-936248ba536a"
      },
      "execution_count": 2,
      "outputs": [
        {
          "output_type": "stream",
          "name": "stdout",
          "text": [
            "   temperature  activity\n",
            "0            0         3\n",
            "1           10         7\n",
            "2           20         9\n",
            "3           30        14\n",
            "4           40        15\n"
          ]
        }
      ]
    },
    {
      "cell_type": "code",
      "source": [
        "# Create a new column named adjusted.\n",
        "my_dataframe[\"adjusted\"] = my_dataframe[\"activity\"] + 2\n",
        "\n",
        "# Print the entire DataFrame\n",
        "print(my_dataframe)"
      ],
      "metadata": {
        "colab": {
          "base_uri": "https://localhost:8080/",
          "height": 0
        },
        "id": "l0cmU5fQ8vRx",
        "outputId": "db69059c-298f-4fab-da04-5ae2cc6ce123"
      },
      "execution_count": 3,
      "outputs": [
        {
          "output_type": "stream",
          "name": "stdout",
          "text": [
            "   temperature  activity  adjusted\n",
            "0            0         3         5\n",
            "1           10         7         9\n",
            "2           20         9        11\n",
            "3           30        14        16\n",
            "4           40        15        17\n"
          ]
        }
      ]
    },
    {
      "cell_type": "code",
      "source": [
        "# Specifying a subset of a DataFrame = Menentukan subset dari data frame"
      ],
      "metadata": {
        "id": "X5yxr2_y9sIi"
      },
      "execution_count": 6,
      "outputs": []
    },
    {
      "cell_type": "code",
      "source": [
        "print(\"Rows #0, #1, and #2:\")\n",
        "print(my_dataframe.head(3), '\\n')\n",
        "\n",
        "print(\"Row #2:\")\n",
        "print(my_dataframe.iloc[[2]], '\\n')\n",
        "\n",
        "print(\"Rows #1, #2, and #3:\")\n",
        "print(my_dataframe[1:4], '\\n')\n",
        "\n",
        "print(\"Column 'temperature':\")\n",
        "print(my_dataframe['temperature'])"
      ],
      "metadata": {
        "colab": {
          "base_uri": "https://localhost:8080/",
          "height": 0
        },
        "id": "B0kkNjqA8589",
        "outputId": "73839687-27cd-4dcb-80a1-19a108ed4130"
      },
      "execution_count": 4,
      "outputs": [
        {
          "output_type": "stream",
          "name": "stdout",
          "text": [
            "Rows #0, #1, and #2:\n",
            "   temperature  activity  adjusted\n",
            "0            0         3         5\n",
            "1           10         7         9\n",
            "2           20         9        11 \n",
            "\n",
            "Row #2:\n",
            "   temperature  activity  adjusted\n",
            "2           20         9        11 \n",
            "\n",
            "Rows #1, #2, and #3:\n",
            "   temperature  activity  adjusted\n",
            "1           10         7         9\n",
            "2           20         9        11\n",
            "3           30        14        16 \n",
            "\n",
            "Column 'temperature':\n",
            "0     0\n",
            "1    10\n",
            "2    20\n",
            "3    30\n",
            "4    40\n",
            "Name: temperature, dtype: int64\n"
          ]
        }
      ]
    },
    {
      "cell_type": "markdown",
      "source": [
        "# Do the following:\n",
        "\n",
        "Create an 3x4 (3 rows x 4 columns) pandas DataFrame in which the columns are named Eleanor, Chidi, Tahani, and Jason. Populate each of the 12 cells in the DataFrame with a random integer between 0 and 100, inclusive.\n",
        "\n",
        "Output the following:\n",
        "\n",
        "the entire DataFrame\n",
        "the value in the cell of row #1 of the Eleanor column\n",
        "Create a fifth column named Janet, which is populated with the row-by-row sums of Tahani and Jason.\n",
        "\n",
        "To complete this task, it helps to know the NumPy basics covered in the NumPy UltraQuick Tutorial."
      ],
      "metadata": {
        "id": "GywgHj9pCkQ2"
      }
    },
    {
      "cell_type": "code",
      "source": [
        "# latihan yang kubuat\n",
        "# Write your code here.\n",
        "# Create and populate a 3x4 NumPy array.\n",
        "my_data = np.array([[90, 85, 70, 60], [75, 78, 79, 90], [45, 60, 85, 90,], [78, 80, 89, 88], [75, 65, 90, 95]])\n",
        "\n",
        "# Create a Python list that holds the names of the two columns.\n",
        "my_column_names = ['Eleanor', 'Chidi', 'Tahani', 'Jason']\n",
        "\n",
        "# Create a DataFrame.\n",
        "my_dataframe = pd.DataFrame(data=my_data, columns=my_column_names)\n",
        "\n",
        "# Print the entire DataFrame\n",
        "print(my_dataframe)"
      ],
      "metadata": {
        "colab": {
          "base_uri": "https://localhost:8080/",
          "height": 0
        },
        "id": "aWVmPSqf8-rD",
        "outputId": "c279b259-c0f8-4564-c1b6-3a4c44809800"
      },
      "execution_count": 7,
      "outputs": [
        {
          "output_type": "stream",
          "name": "stdout",
          "text": [
            "   Eleanor  Chidi  Tahani  Jason\n",
            "0       90     85      70     60\n",
            "1       75     78      79     90\n",
            "2       45     60      85     90\n",
            "3       78     80      89     88\n",
            "4       75     65      90     95\n"
          ]
        }
      ]
    },
    {
      "cell_type": "markdown",
      "source": [
        "Dalam konteks DataFrame pada library seperti Pandas di Python, perbedaan antara referensi (referencing) dan salinan (copy) dapat memiliki dampak signifikan pada hasil yang Anda dapatkan. Mari kita bahas keduanya:\n",
        "\n",
        "Referensi (Referencing):\n",
        "\n",
        "Ketika Anda membuat referensi ke DataFrame, Anda membuat nama alternatif untuk DataFrame yang sudah ada. Artinya, Anda tidak membuat salinan baru dari data, tetapi hanya membuat cara lain untuk mengakses data yang sama.\n",
        "Jika Anda melakukan perubahan pada DataFrame melalui referensi, perubahan tersebut akan tercermin dalam DataFrame asli.\n",
        "Contoh Referensi:\n",
        "import pandas as pd\n",
        "\n",
        "data = {'A': [1, 2, 3], 'B': [4, 5, 6]}\n",
        "df1 = pd.DataFrame(data)\n",
        "\n",
        "# Membuat referensi ke DataFrame asli\n",
        "df2 = df1\n",
        "\n",
        "# Perubahan pada df2 juga mempengaruhi df1\n",
        "df2['A'][0] = 99\n",
        "print(df1)\n",
        "\n",
        "Salinan (Copy):\n",
        "\n",
        "Saat Anda membuat salinan DataFrame, Anda membuat duplikat data yang terisolasi dari DataFrame asli. Perubahan pada salinan tidak mempengaruhi DataFrame asli, dan sebaliknya.\n",
        "Pandas menyediakan metode copy() untuk membuat salinan dari DataFrame.\n",
        "Contoh Salinan:\n",
        "import pandas as pd\n",
        "\n",
        "data = {'A': [1, 2, 3], 'B': [4, 5, 6]}\n",
        "df1 = pd.DataFrame(data)\n",
        "\n",
        "# Membuat salinan dari DataFrame asli\n",
        "df2 = df1.copy()\n",
        "\n",
        "# Perubahan pada df2 tidak mempengaruhi df1\n",
        "df2['A'][0] = 99\n",
        "print(df1)\n",
        "Kapan Menggunakan Referensi atau Salinan:\n",
        "\n",
        "Referensi: Dapat digunakan jika Anda ingin memiliki dua nama untuk DataFrame yang sama, dan perubahan pada satu nama juga terlihat pada nama lainnya. Berguna untuk menghemat memori dan mempercepat eksekusi jika Anda hanya ingin melihat atau mengakses data yang sama.\n",
        "Salinan: Berguna ketika Anda ingin bekerja dengan dua dataset yang berbeda dan menghindari perubahan yang tidak diinginkan pada DataFrame asli."
      ],
      "metadata": {
        "id": "xjkYZ8PpElj8"
      }
    },
    {
      "cell_type": "code",
      "source": [
        "# Create a Python list that holds the names of the four columns.\n",
        "my_column_names = ['Eleanor', 'Chidi', 'Tahani', 'Jason']\n",
        "\n",
        "# Create a 3x4 numpy array, each cell populated with a random integer.\n",
        "my_data = np.random.randint(low=0, high=101, size=(3, 4))\n",
        "\n",
        "# Create a DataFrame.\n",
        "df = pd.DataFrame(data=my_data, columns=my_column_names)\n",
        "\n",
        "# Print the entire DataFrame\n",
        "print(df)\n",
        "\n",
        "# Print the value in row #1 of the Eleanor column.\n",
        "print(\"\\nSecond row of the Eleanor column: %d\\n\" % df['Eleanor'][1])\n",
        "\n",
        "# Create a column named Janet whose contents are the sum\n",
        "# of two other columns.\n",
        "df['Janet'] = df['Tahani'] + df['Jason']\n",
        "\n",
        "# Print the enhanced DataFrame\n",
        "print(df)"
      ],
      "metadata": {
        "colab": {
          "base_uri": "https://localhost:8080/",
          "height": 0
        },
        "id": "ZJ4TV_MICSOU",
        "outputId": "6c26233f-7f82-4e63-f409-bb77def24849"
      },
      "execution_count": 8,
      "outputs": [
        {
          "output_type": "stream",
          "name": "stdout",
          "text": [
            "   Eleanor  Chidi  Tahani  Jason\n",
            "0       29     55      92     84\n",
            "1       67      5      48     28\n",
            "2       26     22      89      2\n",
            "\n",
            "Second row of the Eleanor column: 67\n",
            "\n",
            "   Eleanor  Chidi  Tahani  Jason  Janet\n",
            "0       29     55      92     84    176\n",
            "1       67      5      48     28     76\n",
            "2       26     22      89      2     91\n"
          ]
        }
      ]
    },
    {
      "cell_type": "markdown",
      "source": [
        "MATERI SELANJUTNYA"
      ],
      "metadata": {
        "id": "TD2d4MbOFHy5"
      }
    },
    {
      "cell_type": "code",
      "source": [
        "one_dimensional_array = np.array([1.2, 2.4, 3.5, 4.7, 6.1, 7.2, 8.3, 9.5])\n",
        "print(one_dimensional_array)"
      ],
      "metadata": {
        "colab": {
          "base_uri": "https://localhost:8080/",
          "height": 0
        },
        "id": "cb1EjX5YCVjB",
        "outputId": "a183b551-dd14-49da-808a-cf0903fc9044"
      },
      "execution_count": 10,
      "outputs": [
        {
          "output_type": "stream",
          "name": "stdout",
          "text": [
            "[1.2 2.4 3.5 4.7 6.1 7.2 8.3 9.5]\n"
          ]
        }
      ]
    },
    {
      "cell_type": "markdown",
      "source": [
        "Populate arrays with specific numbers\n",
        "Call *np.array* to create a NumPy array with your own hand-picked values. For example, the following call to np.array creates an 8-element array:"
      ],
      "metadata": {
        "id": "FGxjEO8kFeQ0"
      }
    },
    {
      "cell_type": "code",
      "source": [
        "two_dimensional_array = np.array([[6, 5], [11, 7], [4, 8]])\n",
        "print(two_dimensional_array)"
      ],
      "metadata": {
        "colab": {
          "base_uri": "https://localhost:8080/",
          "height": 0
        },
        "id": "89MWSKn9FYGK",
        "outputId": "a5f8649a-7071-47b8-eb64-1afb6a19dd94"
      },
      "execution_count": 11,
      "outputs": [
        {
          "output_type": "stream",
          "name": "stdout",
          "text": [
            "[[ 6  5]\n",
            " [11  7]\n",
            " [ 4  8]]\n"
          ]
        }
      ]
    },
    {
      "cell_type": "code",
      "source": [
        "# To populate an array with all zeroes, call np.zeros. To populate an array with all ones, call np.ones."
      ],
      "metadata": {
        "id": "z6sjyNxOFnKb"
      },
      "execution_count": 12,
      "outputs": []
    },
    {
      "cell_type": "code",
      "source": [
        "zeros_1d = np.zeros(5)\n",
        "print(zeros_1d)"
      ],
      "metadata": {
        "colab": {
          "base_uri": "https://localhost:8080/",
          "height": 0
        },
        "id": "fNJeMkjVFu1z",
        "outputId": "afda6eb9-8436-4f6f-cbf4-947013d17cb9"
      },
      "execution_count": 13,
      "outputs": [
        {
          "output_type": "stream",
          "name": "stdout",
          "text": [
            "[0. 0. 0. 0. 0.]\n"
          ]
        }
      ]
    },
    {
      "cell_type": "code",
      "source": [],
      "metadata": {
        "id": "_Lx29fj2GDqo"
      },
      "execution_count": null,
      "outputs": []
    },
    {
      "cell_type": "markdown",
      "source": [
        "np.zeros adalah fungsi dalam NumPy, sebuah library untuk komputasi numerik di Python, yang digunakan untuk membuat array berisi nol. Fungsi ini memiliki sintaksis berikut:\n",
        "***shape***: Tuple yang menunjukkan ukuran array yang akan dibuat. Misalnya, (2, 3) akan membuat array dua dimensi dengan 2 baris dan 3 kolom.\n",
        "***dtype*** (opsional): Tipe data dari elemen-elemen array. Secara default adalah float.\n",
        "**order** (opsional): Spesifikasi urutan penyimpanan array. 'C' untuk urutan C-style (baris utama), 'F' untuk urutan Fortran-style (kolom utama)."
      ],
      "metadata": {
        "id": "NYDCuAo0GLPS"
      }
    },
    {
      "cell_type": "code",
      "source": [
        "# Membuat array 2D berukuran 3x4 dengan elemen-elemen nol\n",
        "zeros_2d = np.zeros((3, 4))\n",
        "print(zeros_2d)"
      ],
      "metadata": {
        "colab": {
          "base_uri": "https://localhost:8080/",
          "height": 0
        },
        "id": "ZpkKMEU-GSaa",
        "outputId": "b123c327-83f1-461f-8c8d-c45b3f5f3734"
      },
      "execution_count": 14,
      "outputs": [
        {
          "output_type": "stream",
          "name": "stdout",
          "text": [
            "[[0. 0. 0. 0.]\n",
            " [0. 0. 0. 0.]\n",
            " [0. 0. 0. 0.]]\n"
          ]
        }
      ]
    },
    {
      "cell_type": "code",
      "source": [
        "sequence_of_integers = np.arange(5, 12)\n",
        "print(sequence_of_integers)"
      ],
      "metadata": {
        "colab": {
          "base_uri": "https://localhost:8080/",
          "height": 0
        },
        "id": "MzbAct39Genq",
        "outputId": "c5330e58-c79b-48ef-f272-466cfd8c6bb8"
      },
      "execution_count": 15,
      "outputs": [
        {
          "output_type": "stream",
          "name": "stdout",
          "text": [
            "[ 5  6  7  8  9 10 11]\n"
          ]
        }
      ]
    },
    {
      "cell_type": "code",
      "source": [
        "random_integers_between_50_and_100 = np.random.randint(low=50, high=101, size=(6))\n",
        "print(random_integers_between_50_and_100)"
      ],
      "metadata": {
        "colab": {
          "base_uri": "https://localhost:8080/",
          "height": 0
        },
        "id": "jy-oslYIGjAe",
        "outputId": "eae5f7e2-658f-46d8-be8f-993f168c76ed"
      },
      "execution_count": 16,
      "outputs": [
        {
          "output_type": "stream",
          "name": "stdout",
          "text": [
            "[72 81 86 66 92 74]\n"
          ]
        }
      ]
    },
    {
      "cell_type": "code",
      "source": [
        "random_floats_between_0_and_1 = np.random.random([6])\n",
        "print(random_floats_between_0_and_1)"
      ],
      "metadata": {
        "colab": {
          "base_uri": "https://localhost:8080/",
          "height": 0
        },
        "id": "cyVIBHBSGqf_",
        "outputId": "0b293896-2c4c-4517-8700-87a42f8600fe"
      },
      "execution_count": 17,
      "outputs": [
        {
          "output_type": "stream",
          "name": "stdout",
          "text": [
            "[0.4734291  0.96338167 0.93572091 0.23586492 0.72340169 0.59654733]\n"
          ]
        }
      ]
    },
    {
      "cell_type": "code",
      "source": [
        "random_floats_between_2_and_3 = random_floats_between_0_and_1 + 2.0\n",
        "print(random_floats_between_2_and_3)"
      ],
      "metadata": {
        "colab": {
          "base_uri": "https://localhost:8080/",
          "height": 0
        },
        "id": "sDtIMy-QGy9B",
        "outputId": "d9ae7f35-4d81-468e-8937-9adc8f254fff"
      },
      "execution_count": 18,
      "outputs": [
        {
          "output_type": "stream",
          "name": "stdout",
          "text": [
            "[2.4734291  2.96338167 2.93572091 2.23586492 2.72340169 2.59654733]\n"
          ]
        }
      ]
    },
    {
      "cell_type": "markdown",
      "source": [
        "TEST cara membuat urutan indexs beserta hasilnya"
      ],
      "metadata": {
        "id": "vzndqJcZodrQ"
      }
    },
    {
      "cell_type": "code",
      "source": [
        "feature = np.arange (6,21) # write your code here\n",
        "print(feature)\n",
        "label = (feature *3) + 4   # write your code here\n",
        "print(label)"
      ],
      "metadata": {
        "colab": {
          "base_uri": "https://localhost:8080/",
          "height": 0
        },
        "id": "EX1PLJxvG5v-",
        "outputId": "b5b79e65-eb2c-419f-aa87-7801476c7b5d"
      },
      "execution_count": 3,
      "outputs": [
        {
          "output_type": "stream",
          "name": "stdout",
          "text": [
            "[ 6  7  8  9 10 11 12 13 14 15 16 17 18 19 20]\n",
            "[22 25 28 31 34 37 40 43 46 49 52 55 58 61 64]\n"
          ]
        }
      ]
    },
    {
      "cell_type": "code",
      "source": [
        "#@title Double-click to see a possible solution to Task 2.\n",
        "\n",
        "noise = (np.random.random([15]) * 4) - 2\n",
        "print(noise)\n",
        "label = label + noise\n",
        "print(label)"
      ],
      "metadata": {
        "colab": {
          "base_uri": "https://localhost:8080/",
          "height": 0
        },
        "id": "8muus1IwokAS",
        "outputId": "c0f62a19-bdbb-419e-c39c-4fea58e544f1"
      },
      "execution_count": 4,
      "outputs": [
        {
          "output_type": "stream",
          "name": "stdout",
          "text": [
            "[ 1.838328   -1.50383572 -0.13403072  0.21703242  1.68134162 -1.84045388\n",
            "  0.7535527   0.01614384 -1.8636189   1.6184543  -1.95364436 -0.92433292\n",
            " -0.75047081 -0.28526631  0.95922562]\n",
            "[23.838328   23.49616428 27.86596928 31.21703242 35.68134162 35.15954612\n",
            " 40.7535527  43.01614384 44.1363811  50.6184543  50.04635564 54.07566708\n",
            " 57.24952919 60.71473369 64.95922562]\n"
          ]
        }
      ]
    },
    {
      "cell_type": "markdown",
      "source": [
        "## Tugas 2: Menambahkan Beberapa Kebisingan ke Kumpulan Data\n",
        "\n",
        "Untuk membuat kumpulan data Anda sedikit lebih realistis, masukkan sedikit gangguan acak ke dalam setiap elemen larik `label` yang telah Anda buat. Agar lebih tepat, ubah setiap nilai yang ditetapkan ke `label` dengan menambahkan nilai titik mengambang acak yang *berbeda* antara -2 dan +2.\n",
        "\n",
        "Jangan bergantung pada penyiaran. Sebagai gantinya, buatlah array `noise` yang memiliki dimensi yang sama dengan `label`."
      ],
      "metadata": {
        "id": "pkZewD2fpo_r"
      }
    },
    {
      "cell_type": "code",
      "source": [],
      "metadata": {
        "id": "ynMxGUIFpZj-"
      },
      "execution_count": null,
      "outputs": []
    }
  ]
}