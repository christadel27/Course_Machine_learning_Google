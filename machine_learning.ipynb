{
  "nbformat": 4,
  "nbformat_minor": 0,
  "metadata": {
    "colab": {
      "provenance": [],
      "authorship_tag": "ABX9TyP8h+U/4WIKHqzZDiaUVOw/",
      "include_colab_link": true
    },
    "kernelspec": {
      "name": "python3",
      "display_name": "Python 3"
    },
    "language_info": {
      "name": "python"
    }
  },
  "cells": [
    {
      "cell_type": "markdown",
      "metadata": {
        "id": "view-in-github",
        "colab_type": "text"
      },
      "source": [
        "<a href=\"https://colab.research.google.com/github/christadel27/belajar_github_wave9/blob/main/machine_learning.ipynb\" target=\"_parent\"><img src=\"https://colab.research.google.com/assets/colab-badge.svg\" alt=\"Open In Colab\"/></a>"
      ]
    },
    {
      "cell_type": "markdown",
      "source": [
        "# Menghitung Harga rumah menggunakan machine learning by : Kursus dasar Google"
      ],
      "metadata": {
        "id": "t1oGBaRTIxFL"
      }
    },
    {
      "cell_type": "code",
      "execution_count": 2,
      "metadata": {
        "colab": {
          "base_uri": "https://localhost:8080/"
        },
        "id": "8bgQwmbGISbX",
        "outputId": "3ab9b22f-4c52-493c-eff1-007270918600"
      },
      "outputs": [
        {
          "output_type": "stream",
          "name": "stdout",
          "text": [
            "Imported the modules.\n"
          ]
        }
      ],
      "source": [
        "# 1. Mengimport Library\n",
        "\n",
        "import numpy as np\n",
        "import pandas as pd\n",
        "import tensorflow as tf\n",
        "from tensorflow.keras import layers\n",
        "\n",
        "from matplotlib import pyplot as plt\n",
        "\n",
        "# The following lines adjust the granularity of reporting.\n",
        "pd.options.display.max_rows = 10\n",
        "pd.options.display.float_format = \"{:.1f}\".format\n",
        "\n",
        "tf.keras.backend.set_floatx('float32')\n",
        "\n",
        "print(\"Imported the modules.\")"
      ]
    },
    {
      "cell_type": "markdown",
      "source": [
        "## Load, scale, and shuffle the examples\n",
        "\n",
        "The following code cell loads the separate .csv files and creates the following two pandas DataFrames:\n",
        "\n",
        "* `train_df`, which contains the training set\n",
        "* `test_df`, which contains the test set\n",
        "\n",
        "The code cell then scales the `median_house_value` to a more human-friendly range and then shuffles the examples."
      ],
      "metadata": {
        "id": "52x1uz4JKA3B"
      }
    },
    {
      "cell_type": "code",
      "source": [
        "# Load the dataset\n",
        "train_df = pd.read_csv(\"https://download.mlcc.google.com/mledu-datasets/california_housing_train.csv\")\n",
        "test_df = pd.read_csv(\"https://download.mlcc.google.com/mledu-datasets/california_housing_test.csv\")\n",
        "\n",
        "# Scale the labels\n",
        "scale_factor = 1000.0\n",
        "# Scale the training set's label.\n",
        "train_df[\"median_house_value\"] /= scale_factor\n",
        "\n",
        "# Scale the test set's label\n",
        "test_df[\"median_house_value\"] /= scale_factor\n",
        "\n",
        "# Shuffle the examples\n",
        "train_df = train_df.reindex(np.random.permutation(train_df.index))"
      ],
      "metadata": {
        "id": "gJDxd_9BJeY_"
      },
      "execution_count": 3,
      "outputs": []
    },
    {
      "cell_type": "markdown",
      "source": [
        "## Represent latitude and longitude as floating-point values\n",
        "\n",
        "Previous Colabs trained on only a single feature or a single synthetic feature. By contrast, this exercise trains on two features using **Input layers**.\n",
        "\n",
        "A neighborhood's location is typically the most important feature in determining a house's value. The California Housing dataset provides two features, `latitude` and `longitude` that identify each neighborhood's location.\n",
        "\n",
        "The following code cell defines two [`tf.keras.Input`](https://keras.io/api/layers/core_layers/input/) layers, one to represent `latitude` and another one to represent `longitude`, both as floating-point values.\n",
        "\n",
        "This code cell specifies the features that you'll ultimately train the model on and how each of those features will be represented."
      ],
      "metadata": {
        "id": "otVplbZZMM7F"
      }
    },
    {
      "cell_type": "code",
      "source": [
        "# Keras Input tensors of float values.\n",
        "inputs = {\n",
        "    'latitude':\n",
        "        tf.keras.layers.Input(shape=(1,), dtype=tf.float32,\n",
        "                              name='latitude'),\n",
        "    'longitude':\n",
        "        tf.keras.layers.Input(shape=(1,), dtype=tf.float32,\n",
        "                              name='longitude')\n",
        "}"
      ],
      "metadata": {
        "id": "ChAoCNC1KFCs"
      },
      "execution_count": 4,
      "outputs": []
    },
    {
      "cell_type": "markdown",
      "source": [
        "## Define functions that create and train a model, and a plotting function\n",
        "\n",
        "The following code defines three functions:\n",
        "\n",
        "  * `create_model`, which tells TensorFlow to build a linear regression model based on the inputs and outputs provided.\n",
        "  * `train_model`, which will ultimately train the model from training set examples.\n",
        "  * `plot_the_loss_curve`, which generates a loss curve."
      ],
      "metadata": {
        "id": "YPM8DFYEMa2s"
      }
    },
    {
      "cell_type": "code",
      "source": [
        "#@title Define functions to create and train a model, and a plotting function\n",
        "def create_model(my_inputs, my_outputs, my_learning_rate):\n",
        "\n",
        "  model = tf.keras.Model(inputs=my_inputs, outputs=my_outputs)\n",
        "\n",
        "  # Construct the layers into a model that TensorFlow can execute.\n",
        "  model.compile(optimizer=tf.keras.optimizers.experimental.RMSprop(\n",
        "      learning_rate=my_learning_rate),\n",
        "      loss=\"mean_squared_error\",\n",
        "      metrics=[tf.keras.metrics.RootMeanSquaredError()])\n",
        "\n",
        "  return model\n",
        "\n",
        "\n",
        "def train_model(model, dataset, epochs, batch_size, label_name):\n",
        "  \"\"\"Feed a dataset into the model in order to train it.\"\"\"\n",
        "\n",
        "  features = {name:np.array(value) for name, value in dataset.items()}\n",
        "  label = np.array(features.pop(label_name))\n",
        "  history = model.fit(x=features, y=label, batch_size=batch_size,\n",
        "                      epochs=epochs, shuffle=True)\n",
        "\n",
        "  # The list of epochs is stored separately from the rest of history.\n",
        "  epochs = history.epoch\n",
        "\n",
        "  # Isolate the mean absolute error for each epoch.\n",
        "  hist = pd.DataFrame(history.history)\n",
        "  rmse = hist[\"root_mean_squared_error\"]\n",
        "\n",
        "  return epochs, rmse\n",
        "\n",
        "\n",
        "def plot_the_loss_curve(epochs, rmse):\n",
        "  \"\"\"Plot a curve of loss vs. epoch.\"\"\"\n",
        "\n",
        "  plt.figure()\n",
        "  plt.xlabel(\"Epoch\")\n",
        "  plt.ylabel(\"Root Mean Squared Error\")\n",
        "\n",
        "  plt.plot(epochs, rmse, label=\"Loss\")\n",
        "  plt.legend()\n",
        "  plt.ylim([rmse.min()*0.94, rmse.max()* 1.05])\n",
        "  plt.show()\n",
        "\n",
        "print(\"Defined the create_model, train_model, and plot_the_loss_curve functions.\")"
      ],
      "metadata": {
        "colab": {
          "base_uri": "https://localhost:8080/"
        },
        "id": "mHxEBnNYMQIh",
        "outputId": "4dc6eca2-3cd2-4bff-9066-c0812271cfd5"
      },
      "execution_count": 5,
      "outputs": [
        {
          "output_type": "stream",
          "name": "stdout",
          "text": [
            "Defined the create_model, train_model, and plot_the_loss_curve functions.\n"
          ]
        }
      ]
    },
    {
      "cell_type": "markdown",
      "source": [
        "## Train the model with floating-point representations\n",
        "\n",
        "The following code cell calls the functions you just created to train, plot, and evaluate a model."
      ],
      "metadata": {
        "id": "gbTpCeaKMr0j"
      }
    },
    {
      "cell_type": "code",
      "source": [
        "# The following variables are the hyperparameters.\n",
        "learning_rate = 0.05\n",
        "epochs = 30\n",
        "batch_size = 100\n",
        "label_name = 'median_house_value'\n",
        "\n",
        "# The two Input layers are concatenated so they can be passed as a single\n",
        "# tensor to a Dense layer.\n",
        "preprocessing_layer = tf.keras.layers.Concatenate()(inputs.values())\n",
        "\n",
        "dense_output = layers.Dense(units=1, name='dense_layer')(preprocessing_layer)\n",
        "\n",
        "outputs = {\n",
        "  'dense_output': dense_output\n",
        "}\n",
        "\n",
        "# Create and compile the model's topography.\n",
        "my_model = create_model(inputs, outputs, learning_rate)\n",
        "\n",
        "# To view a PNG of this model's layers, uncomment the call to\n",
        "# `tf.keras.utils.plot_model` below. After running this code cell, click\n",
        "# the file folder on the left, then the `my_model.png` file.\n",
        "# tf.keras.utils.plot_model(my_model, \"my_model.png\", show_shapes=True)\n",
        "\n",
        "# Train the model on the training set.\n",
        "epochs, rmse = train_model(my_model, train_df, epochs, batch_size, label_name)\n",
        "\n",
        "# Print out the model summary.\n",
        "my_model.summary(expand_nested=True)\n",
        "\n",
        "plot_the_loss_curve(epochs, rmse)\n",
        "\n",
        "print(\"\\n: Evaluate the new model against the test set:\")\n",
        "test_features = {name:np.array(value) for name, value in test_df.items()}\n",
        "test_label = np.array(test_features.pop(label_name))\n",
        "my_model.evaluate(x=test_features, y=test_label, batch_size=batch_size)"
      ],
      "metadata": {
        "colab": {
          "base_uri": "https://localhost:8080/",
          "height": 1000
        },
        "id": "oF4dvVn8Mgav",
        "outputId": "5c8b393e-fc87-4320-95bc-21cce2c5d13a"
      },
      "execution_count": 6,
      "outputs": [
        {
          "output_type": "stream",
          "name": "stdout",
          "text": [
            "Epoch 1/30\n"
          ]
        },
        {
          "output_type": "stream",
          "name": "stderr",
          "text": [
            "/usr/local/lib/python3.10/dist-packages/keras/src/engine/functional.py:642: UserWarning: Input dict contained keys ['housing_median_age', 'total_rooms', 'total_bedrooms', 'population', 'households', 'median_income'] which did not match any model input. They will be ignored by the model.\n",
            "  inputs = self._flatten_to_reference_inputs(inputs)\n"
          ]
        },
        {
          "output_type": "stream",
          "name": "stdout",
          "text": [
            "170/170 [==============================] - 2s 4ms/step - loss: 14008.9658 - root_mean_squared_error: 118.3595\n",
            "Epoch 2/30\n",
            "170/170 [==============================] - 0s 2ms/step - loss: 13533.3877 - root_mean_squared_error: 116.3331\n",
            "Epoch 3/30\n",
            "170/170 [==============================] - 0s 3ms/step - loss: 13466.3135 - root_mean_squared_error: 116.0444\n",
            "Epoch 4/30\n",
            "170/170 [==============================] - 0s 3ms/step - loss: 13422.9189 - root_mean_squared_error: 115.8573\n",
            "Epoch 5/30\n",
            "170/170 [==============================] - 0s 3ms/step - loss: 13372.8330 - root_mean_squared_error: 115.6410\n",
            "Epoch 6/30\n",
            "170/170 [==============================] - 0s 2ms/step - loss: 13333.3867 - root_mean_squared_error: 115.4703\n",
            "Epoch 7/30\n",
            "170/170 [==============================] - 0s 2ms/step - loss: 13305.2803 - root_mean_squared_error: 115.3485\n",
            "Epoch 8/30\n",
            "170/170 [==============================] - 0s 2ms/step - loss: 13259.7822 - root_mean_squared_error: 115.1511\n",
            "Epoch 9/30\n",
            "170/170 [==============================] - 0s 2ms/step - loss: 13216.8721 - root_mean_squared_error: 114.9647\n",
            "Epoch 10/30\n",
            "170/170 [==============================] - 0s 1ms/step - loss: 13181.1436 - root_mean_squared_error: 114.8092\n",
            "Epoch 11/30\n",
            "170/170 [==============================] - 0s 2ms/step - loss: 13162.7139 - root_mean_squared_error: 114.7289\n",
            "Epoch 12/30\n",
            "170/170 [==============================] - 0s 2ms/step - loss: 13136.5723 - root_mean_squared_error: 114.6149\n",
            "Epoch 13/30\n",
            "170/170 [==============================] - 0s 2ms/step - loss: 13119.0029 - root_mean_squared_error: 114.5382\n",
            "Epoch 14/30\n",
            "170/170 [==============================] - 0s 2ms/step - loss: 13078.5996 - root_mean_squared_error: 114.3617\n",
            "Epoch 15/30\n",
            "170/170 [==============================] - 0s 2ms/step - loss: 13056.9238 - root_mean_squared_error: 114.2669\n",
            "Epoch 16/30\n",
            "170/170 [==============================] - 0s 2ms/step - loss: 13049.0605 - root_mean_squared_error: 114.2325\n",
            "Epoch 17/30\n",
            "170/170 [==============================] - 0s 2ms/step - loss: 13019.4004 - root_mean_squared_error: 114.1026\n",
            "Epoch 18/30\n",
            "170/170 [==============================] - 0s 2ms/step - loss: 13003.7227 - root_mean_squared_error: 114.0339\n",
            "Epoch 19/30\n",
            "170/170 [==============================] - 0s 2ms/step - loss: 13000.9004 - root_mean_squared_error: 114.0215\n",
            "Epoch 20/30\n",
            "170/170 [==============================] - 0s 2ms/step - loss: 12951.2529 - root_mean_squared_error: 113.8036\n",
            "Epoch 21/30\n",
            "170/170 [==============================] - 0s 2ms/step - loss: 12946.6455 - root_mean_squared_error: 113.7833\n",
            "Epoch 22/30\n",
            "170/170 [==============================] - 0s 2ms/step - loss: 12933.5283 - root_mean_squared_error: 113.7257\n",
            "Epoch 23/30\n",
            "170/170 [==============================] - 0s 2ms/step - loss: 12917.5225 - root_mean_squared_error: 113.6553\n",
            "Epoch 24/30\n",
            "170/170 [==============================] - 0s 2ms/step - loss: 12908.3779 - root_mean_squared_error: 113.6150\n",
            "Epoch 25/30\n",
            "170/170 [==============================] - 0s 2ms/step - loss: 12885.6602 - root_mean_squared_error: 113.5150\n",
            "Epoch 26/30\n",
            "170/170 [==============================] - 0s 2ms/step - loss: 12888.7666 - root_mean_squared_error: 113.5287\n",
            "Epoch 27/30\n",
            "170/170 [==============================] - 0s 2ms/step - loss: 12879.3408 - root_mean_squared_error: 113.4872\n",
            "Epoch 28/30\n",
            "170/170 [==============================] - 0s 2ms/step - loss: 12871.3154 - root_mean_squared_error: 113.4518\n",
            "Epoch 29/30\n",
            "170/170 [==============================] - 0s 2ms/step - loss: 12862.9326 - root_mean_squared_error: 113.4149\n",
            "Epoch 30/30\n",
            "170/170 [==============================] - 0s 2ms/step - loss: 12851.9658 - root_mean_squared_error: 113.3665\n",
            "Model: \"model\"\n",
            "__________________________________________________________________________________________________\n",
            " Layer (type)                Output Shape                 Param #   Connected to                  \n",
            "==================================================================================================\n",
            " latitude (InputLayer)       [(None, 1)]                  0         []                            \n",
            "                                                                                                  \n",
            " longitude (InputLayer)      [(None, 1)]                  0         []                            \n",
            "                                                                                                  \n",
            " concatenate (Concatenate)   (None, 2)                    0         ['latitude[0][0]',            \n",
            "                                                                     'longitude[0][0]']           \n",
            "                                                                                                  \n",
            " dense_layer (Dense)         (None, 1)                    3         ['concatenate[0][0]']         \n",
            "                                                                                                  \n",
            "==================================================================================================\n",
            "Total params: 3 (12.00 Byte)\n",
            "Trainable params: 3 (12.00 Byte)\n",
            "Non-trainable params: 0 (0.00 Byte)\n",
            "__________________________________________________________________________________________________\n"
          ]
        },
        {
          "output_type": "display_data",
          "data": {
            "text/plain": [
              "<Figure size 640x480 with 1 Axes>"
            ],
            "image/png": "[encoded data removed]"
          },
          "metadata": {}
        },
        {
          "output_type": "stream",
          "name": "stdout",
          "text": [
            "\n",
            ": Evaluate the new model against the test set:\n",
            "20/30 [===================>..........] - ETA: 0s - loss: 11954.5518 - root_mean_squared_error: 109.3369"
          ]
        },
        {
          "output_type": "stream",
          "name": "stderr",
          "text": [
            "/usr/local/lib/python3.10/dist-packages/keras/src/engine/functional.py:642: UserWarning: Input dict contained keys ['housing_median_age', 'total_rooms', 'total_bedrooms', 'population', 'households', 'median_income'] which did not match any model input. They will be ignored by the model.\n",
            "  inputs = self._flatten_to_reference_inputs(inputs)\n"
          ]
        },
        {
          "output_type": "stream",
          "name": "stdout",
          "text": [
            "\b\b\b\b\b\b\b\b\b\b\b\b\b\b\b\b\b\b\b\b\b\b\b\b\b\b\b\b\b\b\b\b\b\b\b\b\b\b\b\b\b\b\b\b\b\b\b\b\b\b\b\b\b\b\b\b\b\b\b\b\b\b\b\b\b\b\b\b\b\b\b\b\b\b\b\b\b\b\b\b\b\b\b\b\b\b\b\b\b\b\b\b\b\b\b\b\b\b\b\b\b\b\b\r30/30 [==============================] - 0s 3ms/step - loss: 12203.7734 - root_mean_squared_error: 110.4707\n"
          ]
        },
        {
          "output_type": "execute_result",
          "data": {
            "text/plain": [
              "[12203.7734375, 110.47068786621094]"
            ]
          },
          "metadata": {},
          "execution_count": 6
        }
      ]
    },
    {
      "cell_type": "markdown",
      "source": [
        "## Represent latitude and longitude in buckets\n",
        "\n",
        "The following code cell represents latitude and longitude in buckets (bins). Each bin represents all the neighborhoods within a single degree. For example,\n",
        "neighborhoods at latitude 35.4 and 35.8 are in the same bucket, but neighborhoods in latitude 35.4 and 36.2 are in different buckets.\n",
        "\n",
        "The model will learn a separate weight for each bucket. For example, the model will learn one weight for all the neighborhoods in the \"35\" bin, a different weight for neighborhoods in the \"36\" bin, and so on. This representation will create approximately 20 buckets:\n",
        "\n",
        "  * 10 buckets for `latitude`.\n",
        "  * 10 buckets for `longitude`."
      ],
      "metadata": {
        "id": "dKvtGaEVNhOX"
      }
    },
    {
      "cell_type": "code",
      "source": [
        "resolution_in_degrees = 1.0\n",
        "\n",
        "# Create a list of numbers representing the bucket boundaries for latitude.\n",
        "latitude_boundaries = list(np.arange(int(min(train_df['latitude'])),\n",
        "                                     int(max(train_df['latitude'])),\n",
        "                                     resolution_in_degrees))\n",
        "print(\"latitude boundaries: \" + str(latitude_boundaries))\n",
        "\n",
        "# Create a Discretization layer to separate the latitude data into buckets.\n",
        "latitude = tf.keras.layers.Discretization(\n",
        "    bin_boundaries=latitude_boundaries,\n",
        "    name='discretization_latitude')(inputs.get('latitude'))\n",
        "\n",
        "# Number of categories is the length of latitude_boundaries plus one.\n",
        "latitude = tf.keras.layers.CategoryEncoding(\n",
        "    num_tokens=len(latitude_boundaries) + 1,\n",
        "    output_mode='one_hot',\n",
        "    name='category_encoding_latitude')(latitude)\n",
        "\n",
        "# Create a list of numbers representing the bucket boundaries for longitude.\n",
        "longitude_boundaries = list(np.arange(int(min(train_df['longitude'])),\n",
        "                                      int(max(train_df['longitude'])),\n",
        "                                      resolution_in_degrees))\n",
        "\n",
        "print(\"longitude boundaries: \" + str(longitude_boundaries))\n",
        "\n",
        "# Create a Discretization layer to separate the longitude data into buckets.\n",
        "longitude = tf.keras.layers.Discretization(\n",
        "    bin_boundaries=longitude_boundaries,\n",
        "    name='discretization_longitude')(inputs.get('longitude'))\n",
        "\n",
        "# Number of categories is the length of longitude_boundaries plus one.\n",
        "longitude = tf.keras.layers.CategoryEncoding(\n",
        "    num_tokens=len(longitude_boundaries) + 1,\n",
        "    output_mode='one_hot',\n",
        "    name='category_encoding_longitude')(longitude)\n",
        "\n",
        "# Concatenate latitude and longitude into a single tensor as input for the Dense layer.\n",
        "concatenate_layer = tf.keras.layers.Concatenate()([latitude, longitude])\n",
        "\n",
        "dense_output = layers.Dense(units=1, name='dense_layer')(concatenate_layer)\n",
        "\n",
        "# Define an output dictionary we'll send to the model constructor.\n",
        "outputs = {\n",
        "  'dense_output': dense_output\n",
        "}"
      ],
      "metadata": {
        "colab": {
          "base_uri": "https://localhost:8080/"
        },
        "id": "UNTBfeuiMxXn",
        "outputId": "af821f04-eda9-4a50-f46d-802482a55c88"
      },
      "execution_count": 7,
      "outputs": [
        {
          "output_type": "stream",
          "name": "stdout",
          "text": [
            "latitude boundaries: [32.0, 33.0, 34.0, 35.0, 36.0, 37.0, 38.0, 39.0, 40.0]\n",
            "longitude boundaries: [-124.0, -123.0, -122.0, -121.0, -120.0, -119.0, -118.0, -117.0, -116.0, -115.0]\n"
          ]
        }
      ]
    },
    {
      "cell_type": "markdown",
      "source": [
        "## Train the model with bucket representations\n",
        "\n",
        "Run the following code cell to train the model with bucket representations rather than floating-point representations:"
      ],
      "metadata": {
        "id": "-rOrIkVsNwM9"
      }
    },
    {
      "cell_type": "code",
      "source": [
        "# The following variables are the hyperparameters.\n",
        "learning_rate = 0.04\n",
        "epochs = 35\n",
        "\n",
        "# Build the model.\n",
        "my_model = create_model(inputs, outputs, learning_rate)\n",
        "\n",
        "# Train the model on the training set.\n",
        "epochs, rmse = train_model(my_model, train_df, epochs, batch_size, label_name)\n",
        "\n",
        "# Print out the model summary.\n",
        "my_model.summary(expand_nested=True)\n",
        "\n",
        "plot_the_loss_curve(epochs, rmse)\n",
        "\n",
        "print(\"\\n: Evaluate the new model against the test set:\")\n",
        "my_model.evaluate(x=test_features, y=test_label, batch_size=batch_size)"
      ],
      "metadata": {
        "colab": {
          "base_uri": "https://localhost:8080/",
          "height": 1000
        },
        "id": "EsaTacn8NaE6",
        "outputId": "d8a3e55d-1aeb-496b-839b-410769f3c337"
      },
      "execution_count": 8,
      "outputs": [
        {
          "output_type": "stream",
          "name": "stdout",
          "text": [
            "Epoch 1/35\n",
            "170/170 [==============================] - 1s 4ms/step - loss: 51933.4961 - root_mean_squared_error: 227.8892\n",
            "Epoch 2/35\n",
            "170/170 [==============================] - 1s 4ms/step - loss: 44571.2422 - root_mean_squared_error: 211.1190\n",
            "Epoch 3/35\n",
            "170/170 [==============================] - 1s 4ms/step - loss: 37978.0273 - root_mean_squared_error: 194.8795\n",
            "Epoch 4/35\n",
            "170/170 [==============================] - 1s 5ms/step - loss: 32180.8145 - root_mean_squared_error: 179.3901\n",
            "Epoch 5/35\n",
            "170/170 [==============================] - 0s 2ms/step - loss: 27170.8125 - root_mean_squared_error: 164.8357\n",
            "Epoch 6/35\n",
            "170/170 [==============================] - 0s 2ms/step - loss: 22921.9004 - root_mean_squared_error: 151.3998\n",
            "Epoch 7/35\n",
            "170/170 [==============================] - 0s 2ms/step - loss: 19427.2383 - root_mean_squared_error: 139.3816\n",
            "Epoch 8/35\n",
            "170/170 [==============================] - 0s 2ms/step - loss: 16621.8750 - root_mean_squared_error: 128.9259\n",
            "Epoch 9/35\n",
            "170/170 [==============================] - 0s 2ms/step - loss: 14488.9727 - root_mean_squared_error: 120.3701\n",
            "Epoch 10/35\n",
            "170/170 [==============================] - 0s 2ms/step - loss: 12946.3223 - root_mean_squared_error: 113.7819\n",
            "Epoch 11/35\n",
            "170/170 [==============================] - 0s 2ms/step - loss: 11917.7441 - root_mean_squared_error: 109.1684\n",
            "Epoch 12/35\n",
            "170/170 [==============================] - 0s 2ms/step - loss: 11317.0791 - root_mean_squared_error: 106.3818\n",
            "Epoch 13/35\n",
            "170/170 [==============================] - 0s 2ms/step - loss: 10983.8262 - root_mean_squared_error: 104.8037\n",
            "Epoch 14/35\n",
            "170/170 [==============================] - 0s 2ms/step - loss: 10790.6104 - root_mean_squared_error: 103.8779\n",
            "Epoch 15/35\n",
            "170/170 [==============================] - 0s 2ms/step - loss: 10674.4824 - root_mean_squared_error: 103.3174\n",
            "Epoch 16/35\n",
            "170/170 [==============================] - 0s 2ms/step - loss: 10599.3701 - root_mean_squared_error: 102.9532\n",
            "Epoch 17/35\n",
            "170/170 [==============================] - 0s 2ms/step - loss: 10550.9834 - root_mean_squared_error: 102.7180\n",
            "Epoch 18/35\n",
            "170/170 [==============================] - 0s 2ms/step - loss: 10519.1689 - root_mean_squared_error: 102.5630\n",
            "Epoch 19/35\n",
            "170/170 [==============================] - 0s 3ms/step - loss: 10495.1924 - root_mean_squared_error: 102.4460\n",
            "Epoch 20/35\n",
            "170/170 [==============================] - 0s 3ms/step - loss: 10476.4434 - root_mean_squared_error: 102.3545\n",
            "Epoch 21/35\n",
            "170/170 [==============================] - 0s 3ms/step - loss: 10461.7256 - root_mean_squared_error: 102.2826\n",
            "Epoch 22/35\n",
            "170/170 [==============================] - 0s 3ms/step - loss: 10448.5850 - root_mean_squared_error: 102.2183\n",
            "Epoch 23/35\n",
            "170/170 [==============================] - 0s 3ms/step - loss: 10437.8623 - root_mean_squared_error: 102.1659\n",
            "Epoch 24/35\n",
            "170/170 [==============================] - 0s 3ms/step - loss: 10427.1377 - root_mean_squared_error: 102.1134\n",
            "Epoch 25/35\n",
            "170/170 [==============================] - 0s 3ms/step - loss: 10417.1338 - root_mean_squared_error: 102.0644\n",
            "Epoch 26/35\n",
            "170/170 [==============================] - 0s 2ms/step - loss: 10407.9609 - root_mean_squared_error: 102.0194\n",
            "Epoch 27/35\n",
            "170/170 [==============================] - 0s 3ms/step - loss: 10399.1367 - root_mean_squared_error: 101.9762\n",
            "Epoch 28/35\n",
            "170/170 [==============================] - 0s 2ms/step - loss: 10391.0879 - root_mean_squared_error: 101.9367\n",
            "Epoch 29/35\n",
            "170/170 [==============================] - 0s 2ms/step - loss: 10383.5635 - root_mean_squared_error: 101.8998\n",
            "Epoch 30/35\n",
            "170/170 [==============================] - 0s 2ms/step - loss: 10376.0908 - root_mean_squared_error: 101.8631\n",
            "Epoch 31/35\n",
            "170/170 [==============================] - 0s 2ms/step - loss: 10368.8535 - root_mean_squared_error: 101.8276\n",
            "Epoch 32/35\n",
            "170/170 [==============================] - 0s 2ms/step - loss: 10361.5439 - root_mean_squared_error: 101.7917\n",
            "Epoch 33/35\n",
            "170/170 [==============================] - 0s 2ms/step - loss: 10354.9482 - root_mean_squared_error: 101.7593\n",
            "Epoch 34/35\n",
            "170/170 [==============================] - 0s 2ms/step - loss: 10348.1982 - root_mean_squared_error: 101.7261\n",
            "Epoch 35/35\n",
            "170/170 [==============================] - 0s 2ms/step - loss: 10341.6562 - root_mean_squared_error: 101.6939\n",
            "Model: \"model_1\"\n",
            "__________________________________________________________________________________________________\n",
            " Layer (type)                Output Shape                 Param #   Connected to                  \n",
            "==================================================================================================\n",
            " latitude (InputLayer)       [(None, 1)]                  0         []                            \n",
            "                                                                                                  \n",
            " longitude (InputLayer)      [(None, 1)]                  0         []                            \n",
            "                                                                                                  \n",
            " discretization_latitude (D  (None, 1)                    0         ['latitude[0][0]']            \n",
            " iscretization)                                                                                   \n",
            "                                                                                                  \n",
            " discretization_longitude (  (None, 1)                    0         ['longitude[0][0]']           \n",
            " Discretization)                                                                                  \n",
            "                                                                                                  \n",
            " category_encoding_latitude  (None, 10)                   0         ['discretization_latitude[0][0\n",
            "  (CategoryEncoding)                                                ]']                           \n",
            "                                                                                                  \n",
            " category_encoding_longitud  (None, 11)                   0         ['discretization_longitude[0][\n",
            " e (CategoryEncoding)                                               0]']                          \n",
            "                                                                                                  \n",
            " concatenate_1 (Concatenate  (None, 21)                   0         ['category_encoding_latitude[0\n",
            " )                                                                  ][0]',                        \n",
            "                                                                     'category_encoding_longitude[\n",
            "                                                                    0][0]']                       \n",
            "                                                                                                  \n",
            " dense_layer (Dense)         (None, 1)                    22        ['concatenate_1[0][0]']       \n",
            "                                                                                                  \n",
            "==================================================================================================\n",
            "Total params: 22 (88.00 Byte)\n",
            "Trainable params: 22 (88.00 Byte)\n",
            "Non-trainable params: 0 (0.00 Byte)\n",
            "__________________________________________________________________________________________________\n"
          ]
        },
        {
          "output_type": "display_data",
          "data": {
            "text/plain": [
              "<Figure size 640x480 with 1 Axes>"
            ],
            "image/png": "[encoded data removed]"
          },
          "metadata": {}
        },
        {
          "output_type": "stream",
          "name": "stdout",
          "text": [
            "\n",
            ": Evaluate the new model against the test set:\n",
            "30/30 [==============================] - 0s 2ms/step - loss: 10201.2217 - root_mean_squared_error: 101.0011\n"
          ]
        },
        {
          "output_type": "stream",
          "name": "stderr",
          "text": [
            "/usr/local/lib/python3.10/dist-packages/keras/src/engine/functional.py:642: UserWarning: Input dict contained keys ['housing_median_age', 'total_rooms', 'total_bedrooms', 'population', 'households', 'median_income'] which did not match any model input. They will be ignored by the model.\n",
            "  inputs = self._flatten_to_reference_inputs(inputs)\n"
          ]
        },
        {
          "output_type": "execute_result",
          "data": {
            "text/plain": [
              "[10201.2216796875, 101.0010986328125]"
            ]
          },
          "metadata": {},
          "execution_count": 8
        }
      ]
    },
    {
      "cell_type": "markdown",
      "source": [
        "## Represent location as a feature cross\n",
        "\n",
        "The following code cell represents location as a feature cross. That is, the following code cell first creates buckets and then crosses the latitude and longitude features using a `HashedCrossing` layer."
      ],
      "metadata": {
        "id": "CEISvodvOSI8"
      }
    },
    {
      "cell_type": "code",
      "source": [
        "resolution_in_degrees = 1.0\n",
        "\n",
        "# Create a list of numbers representing the bucket boundaries for latitude.\n",
        "latitude_boundaries = list(np.arange(int(min(train_df['latitude'])),\n",
        "                                     int(max(train_df['latitude'])),\n",
        "                                     resolution_in_degrees))\n",
        "\n",
        "# Create a Discretization layer to separate the latitude data into buckets.\n",
        "latitude = tf.keras.layers.Discretization(\n",
        "    bin_boundaries=latitude_boundaries,\n",
        "    name='discretization_latitude')(inputs.get('latitude'))\n",
        "\n",
        "# Create a list of numbers representing the bucket boundaries for longitude.\n",
        "longitude_boundaries = list(np.arange(int(min(train_df['longitude'])),\n",
        "                                      int(max(train_df['longitude'])),\n",
        "                                      resolution_in_degrees))\n",
        "\n",
        "# Create a Discretization layer to separate the longitude data into buckets.\n",
        "longitude = tf.keras.layers.Discretization(\n",
        "    bin_boundaries=longitude_boundaries,\n",
        "    name='discretization_longitude')(inputs.get('longitude'))\n",
        "\n",
        "# Cross the latitude and longitude features into a single one-hot vector.\n",
        "feature_cross = tf.keras.layers.HashedCrossing(\n",
        "    num_bins=len(latitude_boundaries) * len(longitude_boundaries),\n",
        "    output_mode='one_hot',\n",
        "    name='cross_latitude_longitude')([latitude, longitude])\n",
        "\n",
        "dense_output = layers.Dense(units=1, name='dense_layer')(feature_cross)\n",
        "\n",
        "# Define an output dictionary we'll send to the model constructor.\n",
        "outputs = {\n",
        "  'dense_output': dense_output\n",
        "}"
      ],
      "metadata": {
        "id": "UJXpXidrOBTK"
      },
      "execution_count": 9,
      "outputs": []
    },
    {
      "cell_type": "code",
      "source": [
        "resolution_in_degrees = 1.0\n",
        "\n",
        "# Create a list of numbers representing the bucket boundaries for latitude.\n",
        "latitude_boundaries = list(np.arange(int(min(train_df['latitude'])),\n",
        "                                     int(max(train_df['latitude'])),\n",
        "                                     resolution_in_degrees))\n",
        "\n",
        "# Create a Discretization layer to separate the latitude data into buckets.\n",
        "latitude = tf.keras.layers.Discretization(\n",
        "    bin_boundaries=latitude_boundaries,\n",
        "    name='discretization_latitude')(inputs.get('latitude'))\n",
        "\n",
        "# Create a list of numbers representing the bucket boundaries for longitude.\n",
        "longitude_boundaries = list(np.arange(int(min(train_df['longitude'])),\n",
        "                                      int(max(train_df['longitude'])),\n",
        "                                      resolution_in_degrees))\n",
        "\n",
        "# Create a Discretization layer to separate the longitude data into buckets.\n",
        "longitude = tf.keras.layers.Discretization(\n",
        "    bin_boundaries=longitude_boundaries,\n",
        "    name='discretization_longitude')(inputs.get('longitude'))\n",
        "\n",
        "# Cross the latitude and longitude features into a single one-hot vector.\n",
        "feature_cross = tf.keras.layers.HashedCrossing(\n",
        "    num_bins=len(latitude_boundaries) * len(longitude_boundaries),\n",
        "    output_mode='one_hot',\n",
        "    name='cross_latitude_longitude')([latitude, longitude])\n",
        "\n",
        "dense_output = layers.Dense(units=1, name='dense_layer')(feature_cross)\n",
        "\n",
        "# Define an output dictionary we'll send to the model constructor.\n",
        "outputs = {\n",
        "  'dense_output': dense_output\n",
        "}"
      ],
      "metadata": {
        "id": "K7MqwSmROXtA"
      },
      "execution_count": 11,
      "outputs": []
    },
    {
      "cell_type": "code",
      "source": [
        "# The following variables are the hyperparameters.\n",
        "learning_rate = 0.04\n",
        "epochs = 35\n",
        "\n",
        "# Build the model, this time passing in the feature_cross_feature_layer:\n",
        "my_model = create_model(inputs, outputs, learning_rate)\n",
        "\n",
        "# Train the model on the training set.\n",
        "epochs, rmse = train_model(my_model, train_df, epochs, batch_size, label_name)\n",
        "\n",
        "# Print out the model summary.\n",
        "my_model.summary(expand_nested=True)\n",
        "\n",
        "plot_the_loss_curve(epochs, rmse)\n",
        "\n",
        "print(\"\\n: Evaluate the new model against the test set:\")\n",
        "my_model.evaluate(x=test_features, y=test_label, batch_size=batch_size)"
      ],
      "metadata": {
        "colab": {
          "base_uri": "https://localhost:8080/",
          "height": 1000
        },
        "id": "XYRY8dwtOdaK",
        "outputId": "66de5d7d-096f-4e4b-b622-f8a68ccc9e4a"
      },
      "execution_count": 12,
      "outputs": [
        {
          "output_type": "stream",
          "name": "stdout",
          "text": [
            "Epoch 1/35\n",
            "170/170 [==============================] - 1s 3ms/step - loss: 53540.4453 - root_mean_squared_error: 231.3881\n",
            "Epoch 2/35\n",
            "170/170 [==============================] - 1s 3ms/step - loss: 48507.1094 - root_mean_squared_error: 220.2433\n",
            "Epoch 3/35\n",
            "170/170 [==============================] - 1s 5ms/step - loss: 43823.1602 - root_mean_squared_error: 209.3398\n",
            "Epoch 4/35\n",
            "170/170 [==============================] - 0s 2ms/step - loss: 39470.8281 - root_mean_squared_error: 198.6727\n",
            "Epoch 5/35\n",
            "170/170 [==============================] - 0s 2ms/step - loss: 35464.1602 - root_mean_squared_error: 188.3193\n",
            "Epoch 6/35\n",
            "170/170 [==============================] - 0s 2ms/step - loss: 31765.8086 - root_mean_squared_error: 178.2296\n",
            "Epoch 7/35\n",
            "170/170 [==============================] - 0s 2ms/step - loss: 28409.5137 - root_mean_squared_error: 168.5512\n",
            "Epoch 8/35\n",
            "170/170 [==============================] - 0s 2ms/step - loss: 25389.3711 - root_mean_squared_error: 159.3404\n",
            "Epoch 9/35\n",
            "170/170 [==============================] - 0s 2ms/step - loss: 22663.0566 - root_mean_squared_error: 150.5425\n",
            "Epoch 10/35\n",
            "170/170 [==============================] - 0s 2ms/step - loss: 20250.3652 - root_mean_squared_error: 142.3038\n",
            "Epoch 11/35\n",
            "170/170 [==============================] - 0s 2ms/step - loss: 18138.4141 - root_mean_squared_error: 134.6789\n",
            "Epoch 12/35\n",
            "170/170 [==============================] - 0s 2ms/step - loss: 16314.5732 - root_mean_squared_error: 127.7285\n",
            "Epoch 13/35\n",
            "170/170 [==============================] - 0s 2ms/step - loss: 14754.6426 - root_mean_squared_error: 121.4687\n",
            "Epoch 14/35\n",
            "170/170 [==============================] - 0s 2ms/step - loss: 13446.6621 - root_mean_squared_error: 115.9597\n",
            "Epoch 15/35\n",
            "170/170 [==============================] - 0s 2ms/step - loss: 12373.9531 - root_mean_squared_error: 111.2383\n",
            "Epoch 16/35\n",
            "170/170 [==============================] - 0s 3ms/step - loss: 11547.7480 - root_mean_squared_error: 107.4604\n",
            "Epoch 17/35\n",
            "170/170 [==============================] - 0s 3ms/step - loss: 10921.0459 - root_mean_squared_error: 104.5038\n",
            "Epoch 18/35\n",
            "170/170 [==============================] - 0s 3ms/step - loss: 10483.1602 - root_mean_squared_error: 102.3873\n",
            "Epoch 19/35\n",
            "170/170 [==============================] - 0s 3ms/step - loss: 10200.5791 - root_mean_squared_error: 100.9979\n",
            "Epoch 20/35\n",
            "170/170 [==============================] - 0s 3ms/step - loss: 10014.6943 - root_mean_squared_error: 100.0734\n",
            "Epoch 21/35\n",
            "170/170 [==============================] - 0s 3ms/step - loss: 9887.3232 - root_mean_squared_error: 99.4350\n",
            "Epoch 22/35\n",
            "170/170 [==============================] - 0s 3ms/step - loss: 9790.2295 - root_mean_squared_error: 98.9456\n",
            "Epoch 23/35\n",
            "170/170 [==============================] - 0s 3ms/step - loss: 9716.7822 - root_mean_squared_error: 98.5737\n",
            "Epoch 24/35\n",
            "170/170 [==============================] - 0s 3ms/step - loss: 9660.6484 - root_mean_squared_error: 98.2886\n",
            "Epoch 25/35\n",
            "170/170 [==============================] - 0s 3ms/step - loss: 9617.7959 - root_mean_squared_error: 98.0704\n",
            "Epoch 26/35\n",
            "170/170 [==============================] - 0s 2ms/step - loss: 9585.8115 - root_mean_squared_error: 97.9072\n",
            "Epoch 27/35\n",
            "170/170 [==============================] - 0s 2ms/step - loss: 9562.2500 - root_mean_squared_error: 97.7868\n",
            "Epoch 28/35\n",
            "170/170 [==============================] - 0s 2ms/step - loss: 9544.6045 - root_mean_squared_error: 97.6965\n",
            "Epoch 29/35\n",
            "170/170 [==============================] - 0s 2ms/step - loss: 9531.8320 - root_mean_squared_error: 97.6311\n",
            "Epoch 30/35\n",
            "170/170 [==============================] - 0s 2ms/step - loss: 9521.5674 - root_mean_squared_error: 97.5785\n",
            "Epoch 31/35\n",
            "170/170 [==============================] - 0s 2ms/step - loss: 9513.7861 - root_mean_squared_error: 97.5386\n",
            "Epoch 32/35\n",
            "170/170 [==============================] - 0s 2ms/step - loss: 9507.4990 - root_mean_squared_error: 97.5064\n",
            "Epoch 33/35\n",
            "170/170 [==============================] - 0s 2ms/step - loss: 9502.9639 - root_mean_squared_error: 97.4831\n",
            "Epoch 34/35\n",
            "170/170 [==============================] - 0s 2ms/step - loss: 9499.0254 - root_mean_squared_error: 97.4629\n",
            "Epoch 35/35\n",
            "170/170 [==============================] - 0s 2ms/step - loss: 9496.2910 - root_mean_squared_error: 97.4489\n",
            "Model: \"model_2\"\n",
            "__________________________________________________________________________________________________\n",
            " Layer (type)                Output Shape                 Param #   Connected to                  \n",
            "==================================================================================================\n",
            " latitude (InputLayer)       [(None, 1)]                  0         []                            \n",
            "                                                                                                  \n",
            " longitude (InputLayer)      [(None, 1)]                  0         []                            \n",
            "                                                                                                  \n",
            " discretization_latitude (D  (None, 1)                    0         ['latitude[0][0]']            \n",
            " iscretization)                                                                                   \n",
            "                                                                                                  \n",
            " discretization_longitude (  (None, 1)                    0         ['longitude[0][0]']           \n",
            " Discretization)                                                                                  \n",
            "                                                                                                  \n",
            " cross_latitude_longitude (  (None, 90)                   0         ['discretization_latitude[0][0\n",
            " HashedCrossing)                                                    ]',                           \n",
            "                                                                     'discretization_longitude[0][\n",
            "                                                                    0]']                          \n",
            "                                                                                                  \n",
            " dense_layer (Dense)         (None, 1)                    91        ['cross_latitude_longitude[0][\n",
            "                                                                    0]']                          \n",
            "                                                                                                  \n",
            "==================================================================================================\n",
            "Total params: 91 (364.00 Byte)\n",
            "Trainable params: 91 (364.00 Byte)\n",
            "Non-trainable params: 0 (0.00 Byte)\n",
            "__________________________________________________________________________________________________\n"
          ]
        },
        {
          "output_type": "display_data",
          "data": {
            "text/plain": [
              "<Figure size 640x480 with 1 Axes>"
            ],
            "image/png": "[encoded data removed]"
          },
          "metadata": {}
        },
        {
          "output_type": "stream",
          "name": "stdout",
          "text": [
            "\n",
            ": Evaluate the new model against the test set:\n",
            "30/30 [==============================] - 0s 2ms/step - loss: 9321.7578 - root_mean_squared_error: 96.5492\n"
          ]
        },
        {
          "output_type": "stream",
          "name": "stderr",
          "text": [
            "/usr/local/lib/python3.10/dist-packages/keras/src/engine/functional.py:642: UserWarning: Input dict contained keys ['housing_median_age', 'total_rooms', 'total_bedrooms', 'population', 'households', 'median_income'] which did not match any model input. They will be ignored by the model.\n",
            "  inputs = self._flatten_to_reference_inputs(inputs)\n"
          ]
        },
        {
          "output_type": "execute_result",
          "data": {
            "text/plain": [
              "[9321.7578125, 96.54924774169922]"
            ]
          },
          "metadata": {},
          "execution_count": 12
        }
      ]
    },
    {
      "cell_type": "code",
      "source": [],
      "metadata": {
        "id": "ooqMzAJROwIT"
      },
      "execution_count": null,
      "outputs": []
    }
  ]
}